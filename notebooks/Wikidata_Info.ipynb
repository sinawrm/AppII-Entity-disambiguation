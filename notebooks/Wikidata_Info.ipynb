{
  "nbformat": 4,
  "nbformat_minor": 0,
  "metadata": {
    "colab": {
      "provenance": [],
      "include_colab_link": true
    },
    "kernelspec": {
      "name": "python3",
      "display_name": "Python 3"
    },
    "language_info": {
      "name": "python"
    }
  },
  "cells": [
    {
      "cell_type": "markdown",
      "metadata": {
        "id": "view-in-github",
        "colab_type": "text"
      },
      "source": [
        "<a href=\"https://colab.research.google.com/github/sinawrm/AppII-Entity-disambiguation/blob/main/notebooks/Wikidata_Info.ipynb\" target=\"_parent\"><img src=\"https://colab.research.google.com/assets/colab-badge.svg\" alt=\"Open In Colab\"/></a>"
      ]
    },
    {
      "cell_type": "code",
      "execution_count": null,
      "metadata": {
        "colab": {
          "base_uri": "https://localhost:8080/"
        },
        "id": "Pcxv7uHr-03C",
        "outputId": "3ce17116-19fa-46da-bc9a-c4434e35ee71"
      },
      "outputs": [
        {
          "output_type": "stream",
          "name": "stdout",
          "text": [
            "Looking in indexes: https://pypi.org/simple, https://us-python.pkg.dev/colab-wheels/public/simple/\n",
            "Collecting wikidata\n",
            "  Downloading Wikidata-0.7.0-py3-none-any.whl (29 kB)\n",
            "Installing collected packages: wikidata\n",
            "Successfully installed wikidata-0.7.0\n"
          ]
        }
      ],
      "source": [
        "!pip install wikidata"
      ]
    },
    {
      "cell_type": "code",
      "source": [
        "!pip install sparqlwrapper pandas"
      ],
      "metadata": {
        "colab": {
          "base_uri": "https://localhost:8080/"
        },
        "id": "Bb0qXxw4bm9s",
        "outputId": "b2d4e33b-5aea-4838-befa-417bf588e60f"
      },
      "execution_count": null,
      "outputs": [
        {
          "output_type": "stream",
          "name": "stdout",
          "text": [
            "Looking in indexes: https://pypi.org/simple, https://us-python.pkg.dev/colab-wheels/public/simple/\n",
            "Collecting sparqlwrapper\n",
            "  Downloading SPARQLWrapper-2.0.0-py3-none-any.whl (28 kB)\n",
            "Requirement already satisfied: pandas in /usr/local/lib/python3.10/dist-packages (1.5.3)\n",
            "Collecting rdflib>=6.1.1 (from sparqlwrapper)\n",
            "  Downloading rdflib-6.3.2-py3-none-any.whl (528 kB)\n",
            "\u001b[2K     \u001b[90m━━━━━━━━━━━━━━━━━━━━━━━━━━━━━━━━━━━━━━\u001b[0m \u001b[32m528.1/528.1 kB\u001b[0m \u001b[31m10.2 MB/s\u001b[0m eta \u001b[36m0:00:00\u001b[0m\n",
            "\u001b[?25hRequirement already satisfied: python-dateutil>=2.8.1 in /usr/local/lib/python3.10/dist-packages (from pandas) (2.8.2)\n",
            "Requirement already satisfied: pytz>=2020.1 in /usr/local/lib/python3.10/dist-packages (from pandas) (2022.7.1)\n",
            "Requirement already satisfied: numpy>=1.21.0 in /usr/local/lib/python3.10/dist-packages (from pandas) (1.22.4)\n",
            "Requirement already satisfied: six>=1.5 in /usr/local/lib/python3.10/dist-packages (from python-dateutil>=2.8.1->pandas) (1.16.0)\n",
            "Collecting isodate<0.7.0,>=0.6.0 (from rdflib>=6.1.1->sparqlwrapper)\n",
            "  Downloading isodate-0.6.1-py2.py3-none-any.whl (41 kB)\n",
            "\u001b[2K     \u001b[90m━━━━━━━━━━━━━━━━━━━━━━━━━━━━━━━━━━━━━━━━\u001b[0m \u001b[32m41.7/41.7 kB\u001b[0m \u001b[31m5.1 MB/s\u001b[0m eta \u001b[36m0:00:00\u001b[0m\n",
            "\u001b[?25hRequirement already satisfied: pyparsing<4,>=2.1.0 in /usr/local/lib/python3.10/dist-packages (from rdflib>=6.1.1->sparqlwrapper) (3.0.9)\n",
            "Installing collected packages: isodate, rdflib, sparqlwrapper\n",
            "Successfully installed isodate-0.6.1 rdflib-6.3.2 sparqlwrapper-2.0.0\n"
          ]
        }
      ]
    },
    {
      "cell_type": "code",
      "source": [
        "from SPARQLWrapper import SPARQLWrapper, JSON\n",
        "import pandas as pd"
      ],
      "metadata": {
        "id": "ngD_lHnzbrNy"
      },
      "execution_count": null,
      "outputs": []
    },
    {
      "cell_type": "code",
      "source": [
        "names = [\n",
        "    \"Barack Obama\",\n",
        "    \"Malala Yousafzai\",\n",
        "    \"Beyoncé\",\n",
        "    \"J.K. Rowling\", \n",
        "    \"Oprah Winfrey\", \n",
        "    \"Emma Watson\", \n",
        "    \"Angela Merkel\",\n",
        "    \"Nelson Mandela\", \n",
        "    \"Michelle Obama\",\n",
        "    \"Taylor Swift\", \n",
        "    \"Ellen DeGeneres\",\n",
        "    \"Serena Williams\",\n",
        "    \"Cristiano Ronaldo\",\n",
        "    \"Billie Eilish\", \n",
        "    \"Kamala Harris\", \n",
        "    \"Priyanka Chopra\", \n",
        "    \"Adele\", \n",
        "    \"Stephen Hawking\", \n",
        "    \"Meghan Markle\", \n",
        "    \"Tim Cook\", \n",
        "]\n"
      ],
      "metadata": {
        "id": "eH5zA_Ql_QKv"
      },
      "execution_count": null,
      "outputs": []
    },
    {
      "cell_type": "code",
      "source": [
        "def execute_sparql_query(query):\n",
        "    sparql = SPARQLWrapper(\"https://query.wikidata.org/sparql\")\n",
        "    sparql.setQuery(query)\n",
        "    sparql.setReturnFormat(JSON)\n",
        "    results = sparql.query().convert()\n",
        "    return results"
      ],
      "metadata": {
        "id": "5hw5mDX7buPk"
      },
      "execution_count": null,
      "outputs": []
    },
    {
      "cell_type": "code",
      "source": [
        "data = []\n",
        "for name in names:\n",
        "    query = f\"\"\"\n",
        "    SELECT DISTINCT ?person ?personLabel ?birthDate ?nationalityLabel ?occupationLabel WHERE {{ \n",
        "        ?person wdt:P31 wd:Q5;\n",
        "                rdfs:label \"{name}\"@en.\n",
        "        OPTIONAL {{ ?person wdt:P569 ?birthDate. }}\n",
        "        ?person wdt:P19 ?placeOfBirth.\n",
        "        ?placeOfBirth wdt:P17 ?nationality.\n",
        "        ?person wdt:P106 ?occupation.\n",
        "        SERVICE wikibase:label {{ bd:serviceParam wikibase:language \"[AUTO_LANGUAGE],en\". }}\n",
        "    }}\n",
        "    \"\"\"\n",
        "    results = execute_sparql_query(query)\n",
        "\n",
        "    for result in results[\"results\"][\"bindings\"]:\n",
        "        person_name = result[\"personLabel\"][\"value\"]\n",
        "        birth_year = result[\"birthDate\"][\"value\"][:4] if \"birthDate\" in result else \"Unknown\"\n",
        "        nationality = result[\"nationalityLabel\"][\"value\"]\n",
        "        occupation = result[\"occupationLabel\"][\"value\"]\n",
        "\n",
        "        data.append([person_name, birth_year, nationality, occupation])"
      ],
      "metadata": {
        "id": "0GZBtXTZb2Fn"
      },
      "execution_count": null,
      "outputs": []
    },
    {
      "cell_type": "code",
      "source": [
        "df = pd.DataFrame(data, columns=[\"Name\", \"Year of Birth\", \"Nationality\", \"Occupation\"])"
      ],
      "metadata": {
        "id": "UnQ15iiNcZZf"
      },
      "execution_count": null,
      "outputs": []
    },
    {
      "cell_type": "code",
      "source": [
        "print(df)"
      ],
      "metadata": {
        "colab": {
          "base_uri": "https://localhost:8080/"
        },
        "id": "YnO_QXd5cbME",
        "outputId": "e3a78714-a7fc-471d-ad34-bdde1aceb5a1"
      },
      "execution_count": null,
      "outputs": [
        {
          "output_type": "stream",
          "name": "stdout",
          "text": [
            "             Name Year of Birth               Nationality  \\\n",
            "0    Barack Obama          1961  United States of America   \n",
            "1    Barack Obama          1961  United States of America   \n",
            "2    Barack Obama          1961  United States of America   \n",
            "3    Barack Obama          1961  United States of America   \n",
            "4    Barack Obama          1961  United States of America   \n",
            "..            ...           ...                       ...   \n",
            "133      Tim Cook          1960  United States of America   \n",
            "134      Tim Cook          1960  United States of America   \n",
            "135      Tim Cook          1960  United States of America   \n",
            "136      Tim Cook          1960  United States of America   \n",
            "137      Tim Cook          1960  United States of America   \n",
            "\n",
            "                          Occupation  \n",
            "0    international forum participant  \n",
            "1                             lawyer  \n",
            "2                         politician  \n",
            "3                           academic  \n",
            "4                             jurist  \n",
            "..                               ...  \n",
            "133                          manager  \n",
            "134                         engineer  \n",
            "135          chief executive officer  \n",
            "136                        presenter  \n",
            "137  international forum participant  \n",
            "\n",
            "[138 rows x 4 columns]\n"
          ]
        }
      ]
    },
    {
      "cell_type": "code",
      "source": [
        "distinct_names = df['Name'].unique()\n",
        "print(distinct_names)"
      ],
      "metadata": {
        "colab": {
          "base_uri": "https://localhost:8080/"
        },
        "id": "ErOa7eCDdo6d",
        "outputId": "c124e5f8-24ed-48cc-b2ae-868f1357de61"
      },
      "execution_count": null,
      "outputs": [
        {
          "output_type": "stream",
          "name": "stdout",
          "text": [
            "['Barack Obama' 'Malala Yousafzai' 'Beyoncé' 'Oprah Winfrey' 'Emma Watson'\n",
            " 'Angela Merkel' 'Nelson Mandela' 'Michelle Obama' 'Taylor Swift'\n",
            " 'Ellen DeGeneres' 'Serena Williams' 'Cristiano Ronaldo' 'Billie Eilish'\n",
            " 'Kamala Harris' 'Priyanka Chopra' 'Adele' 'Stephen Hawking' 'Tim Cook']\n"
          ]
        }
      ]
    },
    {
      "cell_type": "code",
      "source": [
        "name_counts = df['Name'].value_counts()\n",
        "print(name_counts)"
      ],
      "metadata": {
        "colab": {
          "base_uri": "https://localhost:8080/"
        },
        "id": "lXXNL1x1d27L",
        "outputId": "cf353eca-b84a-497d-8929-0235be11e80f"
      },
      "execution_count": null,
      "outputs": [
        {
          "output_type": "stream",
          "name": "stdout",
          "text": [
            "Taylor Swift         16\n",
            "Beyoncé              14\n",
            "Oprah Winfrey        13\n",
            "Serena Williams      12\n",
            "Ellen DeGeneres      11\n",
            "Barack Obama         10\n",
            "Tim Cook              9\n",
            "Emma Watson           8\n",
            "Adele                 8\n",
            "Priyanka Chopra       6\n",
            "Nelson Mandela        5\n",
            "Malala Yousafzai      5\n",
            "Michelle Obama        4\n",
            "Cristiano Ronaldo     4\n",
            "Billie Eilish         4\n",
            "Kamala Harris         4\n",
            "Stephen Hawking       3\n",
            "Angela Merkel         2\n",
            "Name: Name, dtype: int64\n"
          ]
        }
      ]
    },
    {
      "cell_type": "code",
      "source": [
        "from google.colab import drive\n",
        "drive.mount('/content/drive')"
      ],
      "metadata": {
        "colab": {
          "base_uri": "https://localhost:8080/"
        },
        "id": "fxmGNI21ev6-",
        "outputId": "1dbe1de1-6627-4d2f-cc0d-f3e9f505de08"
      },
      "execution_count": null,
      "outputs": [
        {
          "output_type": "stream",
          "name": "stdout",
          "text": [
            "Mounted at /content/drive\n"
          ]
        }
      ]
    },
    {
      "cell_type": "code",
      "source": [
        "df.to_csv(\"/content/drive/My Drive/APP II-FINAL PROJECT/data/wikidata.csv\", index=False)"
      ],
      "metadata": {
        "id": "oFiB911meiYU"
      },
      "execution_count": null,
      "outputs": []
    }
  ]
}